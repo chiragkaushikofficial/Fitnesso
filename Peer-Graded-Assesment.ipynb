{
 "cells": [
  {
   "cell_type": "markdown",
   "id": "4ae99912-c96b-4471-a14d-5776ba227fd0",
   "metadata": {},
   "source": [
    "# My Jupyter Notebook on IBM Watson Studio"
   ]
  },
  {
   "cell_type": "markdown",
   "id": "67fe82bb-2d71-4fbb-a6b7-a10502b0cf53",
   "metadata": {},
   "source": [
    "__Chirag Kaushik__ <br>\n",
    "Data Scientist"
   ]
  },
  {
   "cell_type": "markdown",
   "id": "b4a3a463-d8fd-44c5-b23d-7b80bcdf6e2f",
   "metadata": {},
   "source": [
    "_I'm Interested in Data Science because I love to play with data. As a beginner, I enjoy analyzing data to come up with actionable insights. To make actionable insights, I collect the right data, clean and validate it, devise and apply models and algorithms, analyze it, and interpret it for a better understanding._"
   ]
  },
  {
   "cell_type": "markdown",
   "id": "1c926a53-9cbf-42b5-bf46-d3877b85a3df",
   "metadata": {},
   "source": [
    "### The below code Prints \"Namaste Duniya\""
   ]
  },
  {
   "cell_type": "code",
   "execution_count": 2,
   "id": "bdcbcee1-15fd-49b9-8f21-d45577a2fc74",
   "metadata": {},
   "outputs": [
    {
     "name": "stdout",
     "output_type": "stream",
     "text": [
      "Namaste Duniya\n"
     ]
    }
   ],
   "source": [
    "print(\"Namaste Duniya\")"
   ]
  },
  {
   "cell_type": "markdown",
   "id": "6b128b0d-9bd4-43b9-b2c5-682aadf8ba0b",
   "metadata": {},
   "source": [
    "***\n",
    "\n",
    "1) One \n",
    "2) Two\n",
    "3) Three\n",
    "\n",
    "*  Blue\n",
    "*  Yellow\n",
    "*  Black\n",
    "\n",
    "__http://ibm.com__"
   ]
  },
  {
   "cell_type": "code",
   "execution_count": null,
   "id": "b095cbf9-716d-4645-afd5-919d28e2d889",
   "metadata": {},
   "outputs": [],
   "source": []
  }
 ],
 "metadata": {
  "kernelspec": {
   "display_name": "Python",
   "language": "python",
   "name": "conda-env-python-py"
  },
  "language_info": {
   "codemirror_mode": {
    "name": "ipython",
    "version": 3
   },
   "file_extension": ".py",
   "mimetype": "text/x-python",
   "name": "python",
   "nbconvert_exporter": "python",
   "pygments_lexer": "ipython3",
   "version": "3.7.12"
  }
 },
 "nbformat": 4,
 "nbformat_minor": 5
}
